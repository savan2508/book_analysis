{
 "cells": [
  {
   "cell_type": "code",
   "execution_count": 2,
   "id": "initial_id",
   "metadata": {
    "collapsed": true,
    "ExecuteTime": {
     "end_time": "2024-01-02T20:08:28.866730300Z",
     "start_time": "2024-01-02T20:08:28.860812500Z"
    }
   },
   "outputs": [],
   "source": [
    "with open(\"miracle_in_the_andes.txt\", \"r\", encoding=\"utf-8\", errors=\"ignore\") as file:\n",
    "    book = file.read()"
   ]
  },
  {
   "cell_type": "code",
   "outputs": [
    {
     "data": {
      "text/plain": "11"
     },
     "execution_count": 4,
     "metadata": {},
     "output_type": "execute_result"
    }
   ],
   "source": [
    "book.count(\"Chapter\")"
   ],
   "metadata": {
    "collapsed": false,
    "ExecuteTime": {
     "end_time": "2024-01-02T20:14:55.530744400Z",
     "start_time": "2024-01-02T20:14:55.519302100Z"
    }
   },
   "id": "80b0c7e3af9aaaa2",
   "execution_count": 4
  },
  {
   "cell_type": "code",
   "outputs": [],
   "source": [
    "import re"
   ],
   "metadata": {
    "collapsed": false,
    "ExecuteTime": {
     "end_time": "2024-01-02T20:15:25.198532200Z",
     "start_time": "2024-01-02T20:15:25.189002600Z"
    }
   },
   "id": "94fca1bc82f7d338",
   "execution_count": 5
  },
  {
   "cell_type": "code",
   "outputs": [
    {
     "data": {
      "text/plain": "['Chapter 1',\n 'Chapter 2',\n 'Chapter 3',\n 'Chapter 4',\n 'Chapter 5',\n 'Chapter 6',\n 'Chapter 7',\n 'Chapter 8',\n 'Chapter 9',\n 'Chapter 1']"
     },
     "execution_count": 6,
     "metadata": {},
     "output_type": "execute_result"
    }
   ],
   "source": [
    "pattern = re.compile(\"Chapter [0-9]\")\n",
    "re.findall(pattern, book)"
   ],
   "metadata": {
    "collapsed": false,
    "ExecuteTime": {
     "end_time": "2024-01-02T20:17:01.294814Z",
     "start_time": "2024-01-02T20:17:01.279925100Z"
    }
   },
   "id": "1acc5f33b92697d6",
   "execution_count": 6
  },
  {
   "cell_type": "code",
   "outputs": [
    {
     "data": {
      "text/plain": "86798"
     },
     "execution_count": 9,
     "metadata": {},
     "output_type": "execute_result"
    }
   ],
   "source": [
    "pattern_2 = re.compile(\"[a-zA-Z]+\")\n",
    "findings = re.findall(pattern_2, book)\n",
    "len(findings)"
   ],
   "metadata": {
    "collapsed": false,
    "ExecuteTime": {
     "end_time": "2024-01-02T22:13:48.954012Z",
     "start_time": "2024-01-02T22:13:48.920952700Z"
    }
   },
   "id": "dd4f564ca22d99c0",
   "execution_count": 9
  },
  {
   "cell_type": "code",
   "outputs": [
    {
     "data": {
      "text/plain": "7492"
     },
     "execution_count": 11,
     "metadata": {},
     "output_type": "execute_result"
    }
   ],
   "source": [
    "word_count_map = {}\n",
    "for word in findings:\n",
    "    if word in word_count_map:\n",
    "        word_count_map[word] += 1\n",
    "    else:\n",
    "        word_count_map[word] = 1\n",
    "\n",
    "len(word_count_map)"
   ],
   "metadata": {
    "collapsed": false,
    "ExecuteTime": {
     "end_time": "2024-01-02T22:16:01.212752500Z",
     "start_time": "2024-01-02T22:16:01.186545700Z"
    }
   },
   "id": "44dd8f95db797fef",
   "execution_count": 11
  },
  {
   "cell_type": "code",
   "outputs": [
    {
     "data": {
      "text/plain": "[(5013, 'the'),\n (2740, 'and'),\n (2729, 'I'),\n (2368, 'to'),\n (2053, 'of'),\n (1528, 'a'),\n (1418, 'was'),\n (1267, 'in'),\n (1074, 'my'),\n (972, 'that'),\n (940, 'had'),\n (890, 'we'),\n (736, 'he'),\n (648, 'for'),\n (615, 'me'),\n (604, 'as'),\n (603, 'with'),\n (578, 'it'),\n (556, 'would'),\n (545, 'on'),\n (520, 'were'),\n (518, 'us'),\n (514, 'but'),\n (499, 'his'),\n (450, 'our'),\n (435, 'from'),\n (432, 'at'),\n (418, 's'),\n (348, 'all'),\n (341, 'him'),\n (333, 'We'),\n (311, 'be'),\n (309, 'so'),\n (308, 'The'),\n (292, 'said'),\n (288, 't'),\n (284, 'Roberto'),\n (283, 'you'),\n (277, 'not'),\n (275, 'them'),\n (271, 'they'),\n (268, 'is'),\n (264, 'this'),\n (250, 'her'),\n (249, 'could'),\n (248, 'have'),\n (242, 'by'),\n (230, 'no'),\n (229, 'one'),\n (229, 'into'),\n (225, 'snow'),\n (223, 'or'),\n (221, 'It'),\n (216, 'their'),\n (210, 'He'),\n (203, 'more'),\n (201, 'an'),\n (182, 'mountain'),\n (178, 'time'),\n (177, 'been'),\n (176, 'when'),\n (175, 'will'),\n (174, 'down'),\n (165, 'there'),\n (165, 'But'),\n (164, 'way'),\n (162, 'are'),\n (161, 'out'),\n (160, 'up'),\n (157, 'now'),\n (155, 'knew'),\n (153, 'who'),\n (153, 'only'),\n (153, 'life'),\n (152, 'like'),\n (147, 'mountains'),\n (145, 'In'),\n (144, 'what'),\n (144, 'if'),\n (140, 'fuselage'),\n (135, 'she'),\n (133, 'can'),\n (132, 'through'),\n (131, 'then'),\n (131, 'about'),\n (128, 'some'),\n (127, 'felt'),\n (127, 'father'),\n (126, 'found'),\n (123, 'myself'),\n (121, 'still'),\n (120, 'others'),\n (118, 'than'),\n (117, 'saw'),\n (116, 'plane'),\n (116, 'd'),\n (114, 'back'),\n (112, 'see'),\n (111, 'first'),\n (108, 'never'),\n (107, 'here'),\n (107, 'do'),\n (107, 'did'),\n (106, 'thought'),\n (105, 'night'),\n (104, 'made'),\n (104, 'There'),\n (103, 'moment'),\n (101, 'over'),\n (100, 'know'),\n (99, 'off'),\n (98, 'just'),\n (98, 'You'),\n (97, 'where'),\n (97, 'too'),\n (97, 'began'),\n (96, 'When'),\n (95, 'much'),\n (95, 'how'),\n (95, 'Roy'),\n (95, 'As'),\n (94, 'long'),\n (94, 'even'),\n (94, 'My'),\n (93, 'feet'),\n (92, 'crash'),\n (92, 'after'),\n (91, 'mother'),\n (91, 'climb'),\n (90, 'God'),\n (89, 'They'),\n (87, 'very'),\n (87, 'make'),\n (87, 'day'),\n (87, 'around'),\n (85, 'these'),\n (85, 'other'),\n (84, 'seemed'),\n (84, 'before'),\n (83, 'friends'),\n (82, 'which'),\n (82, 'love'),\n (82, 'left'),\n (82, 'each'),\n (81, 'again'),\n (80, 'told'),\n (79, 'Andes'),\n (78, 'many'),\n (78, 'away'),\n (77, 'hours'),\n (77, 'go'),\n (77, 'find'),\n (77, 'always'),\n (77, 'Marcelo'),\n (77, 'Gustavo'),\n (76, 'place'),\n (76, 'keep'),\n (76, 'hard'),\n (76, 'cold'),\n (75, 'days'),\n (75, 'Fairchild'),\n (73, 'think'),\n (72, 'strength'),\n (72, 'must'),\n (72, 'air'),\n (71, 'two'),\n (71, 'eyes'),\n (71, 'every'),\n (70, 'face'),\n (69, 'soon'),\n (69, 'few'),\n (69, 'Susy'),\n (68, 'slopes'),\n (68, 'slope'),\n (67, 'right'),\n (67, 'own'),\n (67, 'home'),\n (67, 'death'),\n (67, 'dead'),\n (67, 'asked'),\n (66, 'those'),\n (66, 'mind'),\n (65, 'took'),\n (65, 'most'),\n (64, 'until'),\n (64, 'nothing'),\n (64, 'another'),\n (64, 'above'),\n (64, 'Then'),\n (63, 'strong'),\n (63, 'rock'),\n (63, 'Nando'),\n (62, 'small'),\n (62, 'morning'),\n (62, 'head'),\n (62, 'Numa'),\n (61, 'survivors'),\n (61, 'any'),\n (61, 'am'),\n (61, 'How'),\n (60, 'last'),\n (60, 'enough'),\n (59, 'your'),\n (59, 'little'),\n (59, 'don'),\n (59, 'body'),\n (58, 'take'),\n (58, 'sense'),\n (58, 'rest'),\n (58, 'looked'),\n (58, 'die'),\n (58, 'Fito'),\n (57, 'such'),\n (57, 'might'),\n (57, 'lost'),\n (57, 'great'),\n (57, 'What'),\n (57, 'For'),\n (56, 'things'),\n (56, 'bodies'),\n (56, 'This'),\n (55, 'tried'),\n (55, 'didn'),\n (55, 'come'),\n (55, 'And'),\n (54, 'moments'),\n (54, 'going'),\n (54, 'forward'),\n (54, 'Panchito'),\n (53, 'work'),\n (53, 'If'),\n (52, 'wanted'),\n (52, 'heart'),\n (52, 'good'),\n (51, 'something'),\n (51, 'its'),\n (51, 'feel'),\n (50, 'world'),\n (50, 'team'),\n (50, 'sun'),\n (50, 'second'),\n (50, 'far'),\n (49, 'west'),\n (49, 'toward'),\n (49, 'side'),\n (49, 'man'),\n (49, 'close'),\n (48, 'warm'),\n (48, 'same'),\n (48, 'lay'),\n (48, 'gave'),\n (48, 'arms'),\n (48, 'Tintin'),\n (47, 'ourselves'),\n (47, 'heard'),\n (47, 'At'),\n (46, 'voice'),\n (46, 'together'),\n (46, 'three'),\n (46, 'survive'),\n (46, 'suffering'),\n (46, 'radio'),\n (46, 'passed'),\n (46, 'help'),\n (46, 'couldn'),\n (46, 'She'),\n (46, 'Our'),\n (46, 'Arturo'),\n (45, 'well'),\n (45, 'turned'),\n (45, 'site'),\n (45, 'sister'),\n (45, 'simply'),\n (45, 'rugby'),\n (45, 'rescue'),\n (45, 'kept'),\n (45, 'himself'),\n (45, 'fell'),\n (45, 'deep'),\n (45, 'Carlitos'),\n (44, 'let'),\n (44, 'food'),\n (43, 'realized'),\n (43, 'floor'),\n (43, 'also'),\n (42, 'while'),\n (42, 'll'),\n (42, 'high'),\n (42, 'boys'),\n (41, 'near'),\n (41, 'leave'),\n (41, 'behind'),\n (41, 'against'),\n (41, 'Now'),\n (40, 'someone'),\n (40, 'm'),\n (40, 'legs'),\n (40, 'hope'),\n (40, 'get'),\n (40, 'forced'),\n (40, 'ever'),\n (39, 'years'),\n (39, 'want'),\n (39, 'tail'),\n (39, 'lying'),\n (39, 'lives'),\n (39, 'already'),\n (39, 'across'),\n (39, 'After'),\n (38, 'understood'),\n (38, 'step'),\n (38, 'spent'),\n (38, 'family'),\n (38, 'climbed'),\n (38, 'afternoon'),\n (38, 'A'),\n (37, 'wall'),\n (37, 'pain'),\n (37, 'grew'),\n (36, 'water'),\n (36, 'thin'),\n (36, 'tell'),\n (36, 'suffered'),\n (36, 'seats'),\n (36, 'inside'),\n (36, 'human'),\n (36, 'force'),\n (36, 'fear'),\n (36, 'escape'),\n (36, 'climbing'),\n (36, 'clear'),\n (36, 'best'),\n (36, 'being'),\n (36, 'because'),\n (35, 'longer'),\n (35, 'game'),\n (35, 'finally'),\n (35, 'alive'),\n (34, 'young'),\n (34, 'without'),\n (34, 'thinking'),\n (34, 'silence'),\n (34, 'shouted'),\n (34, 'set'),\n (34, 'seat'),\n (34, 'reached'),\n (34, 'path'),\n (34, 'outside'),\n (34, 'meat'),\n (34, 'end'),\n (34, 'anything'),\n (33, 'under'),\n (33, 'stay'),\n (33, 'since'),\n (33, 'quickly'),\n (33, 'point'),\n (33, 'next'),\n (33, 'later'),\n (33, 'eat'),\n (33, 'courage'),\n (32, 'sure'),\n (32, 'should'),\n (32, 'say'),\n (32, 'river'),\n (32, 'need'),\n (32, 'give'),\n (32, 'future'),\n (32, 'chance'),\n (32, 'came'),\n (32, 'breath'),\n (32, 'became'),\n (32, 'To'),\n (31, 'went'),\n (31, 'thoughts'),\n (31, 'thing'),\n (31, 'racing'),\n (31, 'look'),\n (31, 'living'),\n (31, 'frozen'),\n (31, 'friend'),\n (31, 'fact'),\n (31, 'beneath'),\n (31, 'along'),\n (31, 'His'),\n (30, 'sky'),\n (30, 'open'),\n (30, 'old'),\n (30, 'new'),\n (30, 'led'),\n (30, 'decided'),\n (29, 'words'),\n (29, 'waiting'),\n (29, 'wait'),\n (29, 'valley'),\n (29, 'trip'),\n (29, 'taken'),\n (29, 'nodded'),\n (29, 'live'),\n (29, 'dark'),\n (29, 'beside'),\n (29, 'With'),\n (29, 'Coche'),\n (28, 'walk'),\n (28, 'steep'),\n (28, 'people'),\n (28, 'line'),\n (28, 'light'),\n (28, 'hold'),\n (28, 'ball'),\n (28, 'alone'),\n (28, 'ahead'),\n (28, 'That'),\n (28, 'Garcia'),\n (27, 'weak'),\n (27, 'use'),\n (27, 'try'),\n (27, 'sleeping'),\n (27, 'simple'),\n (27, 'seen'),\n (27, 'saved'),\n (27, 're'),\n (27, 'once'),\n (27, 'often'),\n (27, 'needed'),\n (27, 'certain'),\n (27, 'between'),\n (27, 'almost'),\n (27, 'Montevideo'),\n (27, 'Do'),\n (26, 'trapped'),\n (26, 'sleep'),\n (26, 'showed'),\n (26, 'ordeal'),\n (26, 'heavy'),\n (26, 'half'),\n (26, 'ground'),\n (26, 'gathered'),\n (26, 'flight'),\n (26, 'flesh'),\n (26, 'Liliana'),\n (26, 'Chile'),\n (25, 'understand'),\n (25, 'top'),\n (25, 'summit'),\n (25, 'slow'),\n (25, 'house'),\n (25, 'has'),\n (25, 'happy'),\n (25, 'gone'),\n (25, 'glacier'),\n (25, 'girls'),\n (25, 'effort'),\n (25, 'distance'),\n (25, 'car'),\n (25, 'believe'),\n (25, 'altitude'),\n (25, 'THE'),\n (25, 'On'),\n (24, 'walked'),\n (24, 'save'),\n (24, 'reach'),\n (24, 'quiet'),\n (24, 'presence'),\n (24, 'part'),\n (24, 'ones'),\n (24, 'news'),\n (24, 'moved'),\n (24, 'group'),\n (24, 'front'),\n (24, 'everything'),\n (24, 'difficult'),\n (24, 'died'),\n (24, 'become'),\n (24, 'Veronique'),\n (24, 'Uruguay'),\n (24, 'Some'),\n (24, 'So'),\n (24, 'Javier'),\n (24, 'All'),\n (23, 'trying'),\n (23, 'true'),\n (23, 'though'),\n (23, 'slowly'),\n (23, 'men'),\n (23, 'loved'),\n (23, 'ice'),\n (23, 'hundred'),\n (23, 'given'),\n (23, 'cut'),\n (23, 'covered'),\n (23, 'closer'),\n (23, 'better'),\n (23, 'bag'),\n (23, 'anyone'),\n (23, 'Zerbino'),\n (23, 'Rafael'),\n (22, 'yards'),\n (22, 'wind'),\n (22, 'waited'),\n (22, 'trek'),\n (22, 'times'),\n (22, 'spoke'),\n (22, 'school'),\n (22, 'possible'),\n (22, 'pilots'),\n (22, 'matter'),\n (22, 'luggage'),\n (22, 'late'),\n (22, 'injured'),\n (22, 'idea'),\n (22, 'glanced'),\n (22, 'foot'),\n (22, 'black'),\n (22, 'below'),\n (22, 'able'),\n (22, 'Daniel'),\n (21, 'woman'),\n (21, 'white'),\n (21, 'weather'),\n (21, 'soft'),\n (21, 'shook'),\n (21, 'ridges'),\n (21, 'ridge'),\n (21, 'large'),\n (21, 'helped'),\n (21, 'followed'),\n (21, 'fallen'),\n (21, 'broken'),\n (21, 'blood'),\n (21, 'avalanche'),\n (21, 'Santiago'),\n (21, 'Old'),\n (21, 'No'),\n (20, 'worried'),\n (20, 'used'),\n (20, 'turn'),\n (20, 'standing'),\n (20, 'return'),\n (20, 'pulled'),\n (20, 'making'),\n (20, 'level'),\n (20, 'impossible'),\n (20, 'hour'),\n (20, 'hopes'),\n (20, 'hands'),\n (20, 'fly'),\n (20, 'fears'),\n (20, 'early'),\n (20, 'done'),\n (20, 'disaster'),\n (20, 'course'),\n (20, 'cockpit'),\n (20, 'brought'),\n (20, 'boy'),\n (20, 'badly'),\n (20, 'answered'),\n (20, 'Sometimes'),\n (20, 'One'),\n (20, 'Don'),\n (20, 'Chilean'),\n (20, 'Canessa'),\n (20, 'Brothers'),\n (19, 'several'),\n (19, 'safe'),\n (19, 'rocks'),\n (19, 'remember'),\n (19, 'ready'),\n (19, 'play'),\n (19, 'past'),\n (19, 'onto'),\n (19, 'looking'),\n (19, 'leg'),\n (19, 'leaving'),\n (19, 'hear'),\n (19, 'freezing'),\n (19, 'five'),\n (19, 'fall'),\n (19, 'faces'),\n (19, 'especially'),\n (19, 'choice'),\n (19, 'blue'),\n (19, 'Would'),\n (19, 'December'),\n (19, 'Coco'),\n (19, 'Christians'),\n (18, 'wondered'),\n (18, 'weeks'),\n (18, 'twenty'),\n (18, 'themselves'),\n (18, 'struggle'),\n (18, 'stop'),\n (18, 'stood'),\n (18, 'started'),\n (18, 'shelter'),\n (18, 'self'),\n (18, 'scrum'),\n (18, 'protect'),\n (18, 'playing'),\n (18, 'peaks'),\n (18, 'moving'),\n (18, 'miles'),\n (18, 'helicopters'),\n (18, 'hand'),\n (18, 'filled'),\n (18, 'efforts'),\n (18, 'east'),\n (18, 'control'),\n (18, 'climbers'),\n (18, 'balance'),\n (18, 'Maybe'),\n (18, 'Are'),\n (17, 'year'),\n (17, 'ways'),\n (17, 'warmth'),\n (17, 'walking'),\n (17, 'thick'),\n (17, 'survival'),\n (17, 'speed'),\n (17, 'sound'),\n (17, 'sitting'),\n (17, 'section'),\n (17, 'search'),\n (17, 'sat'),\n (17, 'route'),\n (17, 'rose'),\n (17, 'room'),\n (17, 'returned'),\n (17, 'respect'),\n (17, 'remembered'),\n (17, 'reason'),\n (17, 'really'),\n (17, 'rapidly'),\n (17, 'power'),\n (17, 'parents'),\n (17, 'packed'),\n (17, 'n'),\n (17, 'lived'),\n (17, 'kind'),\n (17, 'kill'),\n (17, 'imagine'),\n (17, 'helicopter'),\n (17, 'feeling'),\n (17, 'fast'),\n (17, 'edge'),\n (17, 'easy'),\n (17, 'drew'),\n (17, 'despite'),\n (17, 'despair'),\n (17, 'cried'),\n (17, 'cordillera'),\n (17, 'constantly'),\n (17, 'coming'),\n (17, 'comfort'),\n (17, 'called'),\n (17, 'both'),\n (17, 'beyond'),\n (17, 'beauty'),\n (17, 'base'),\n (17, 'attention'),\n (17, 'From'),\n (17, 'Christian'),\n (16, 'worked'),\n (16, 'whispered'),\n (16, 'watched'),\n (16, 'view'),\n (16, 'trust'),\n (16, 'ten'),\n (16, 'taught'),\n (16, 'storm'),\n (16, 'shoes'),\n (16, 'replied'),\n (16, 'real'),\n (16, 'move'),\n (16, 'months'),\n (16, 'met'),\n (16, 'loose'),\n (16, 'lie'),\n (16, 'knees'),\n (16, 'huge'),\n (16, 'guys'),\n (16, 'full'),\n (16, 'fight'),\n (16, 'families'),\n (16, 'eye'),\n (16, 'clothes'),\n (16, 'chest'),\n (16, 'care'),\n (16, 'Why'),\n (16, 'Still'),\n (16, 'Jackie'),\n (15, 'working'),\n (15, 'whose'),\n (15, 'weight'),\n (15, 'wasn'),\n (15, 'thousand'),\n (15, 'thirty'),\n (15, 'stomach'),\n (15, 'stand'),\n (15, 'spirits'),\n (15, 'softly'),\n (15, 'skin'),\n (15, 'shoulders'),\n (15, 'rise'),\n (15, 'rescuers'),\n (15, 'pray'),\n (15, 'please'),\n (15, 'places'),\n (15, 'nights'),\n (15, 'miracle'),\n (15, 'melted'),\n (15, 'learned'),\n (15, 'lead'),\n (15, 'held'),\n (15, 'hadn'),\n (15, 'got'),\n (15, 'frigid'),\n (15, 'frightened'),\n (15, 'four'),\n (15, 'following'),\n (15, 'dreamed'),\n (15, 'door'),\n (15, 'doing'),\n (15, 'del'),\n (15, 'children'),\n (15, 'center'),\n (15, 'cars'),\n (15, 'calm'),\n (15, 'buried'),\n (15, 'beach'),\n (15, 'barely'),\n (15, 'bad'),\n (15, 'aluminum'),\n (15, 'Where'),\n (15, 'Uruguayan'),\n (15, 'Pancho'),\n (15, 'Mendoza'),\n (15, 'Harley'),\n (15, 'Each'),\n (15, 'Delgado'),\n (15, 'Carlos'),\n (14, 'yet'),\n (14, 'winds'),\n (14, 'watching'),\n (14, 'tall'),\n (14, 'struggling'),\n (14, 'story'),\n (14, 'stopped'),\n (14, 'spot'),\n (14, 'smiled'),\n (14, 'slept'),\n (14, 'shadows'),\n (14, 'running'),\n (14, 'required'),\n (14, 'quietly'),\n (14, 'muttered'),\n (14, 'match'),\n (14, 'managed'),\n (14, 'known'),\n (14, 'hardware'),\n (14, 'flying'),\n (14, 'fighting'),\n (14, 'faith'),\n (14, 'example'),\n (14, 'energy'),\n (14, 'embraced'),\n (14, 'else'),\n (14, 'eating'),\n (14, 'dream'),\n (14, 'darkness'),\n (14, 'continued'),\n (14, 'clothing'),\n (14, 'bright'),\n (14, 'arrived'),\n (14, 'agony'),\n (14, 'Who'),\n (14, 'Look'),\n (14, 'Guido'),\n (14, 'Did'),\n (13, 'wide'),\n (13, 'western'),\n (13, 'suffer'),\n (13, 'stronger'),\n (13, 'steps'),\n (13, 'spread'),\n (13, 'short'),\n (13, 'sharp'),\n (13, 'settled'),\n (13, 'serious'),\n (13, 'row'),\n (13, 'rolled'),\n (13, 'road'),\n (13, 'refused'),\n (13, 'questions'),\n (13, 'question'),\n (13, 'precious'),\n (13, 'players'),\n (13, 'plan'),\n (13, 'pieces'),\n (13, 'physical'),\n (13, 'perfect'),\n (13, 'passion'),\n (13, 'ordinary'),\n (13, 'minutes'),\n (13, 'low'),\n (13, 'lift'),\n (13, 'itself'),\n (13, 'including'),\n (13, 'incline'),\n (13, 'happened'),\n (13, 'growing'),\n (13, 'finished'),\n (13, 'fine'),\n (13, 'field'),\n (13, 'farther'),\n (13, 'fading'),\n (13, 'evening'),\n (13, 'driver'),\n (13, 'doubt'),\n (13, 'country'),\n (13, 'change'),\n (13, 'carefully'),\n (13, 'call'),\n (13, 'broad'),\n (13, 'bone'),\n (13, 'big'),\n (13, 'beautiful'),\n (13, 'allowed'),\n (13, 'Unknown'),\n (13, 'These'),\n (13, 'Seler'),\n (13, 'Once'),\n (13, 'Like'),\n (13, 'Let'),\n (13, 'Graciela'),\n (13, 'Enrique'),\n (13, 'Eduardo'),\n (13, 'Alvaro'),\n (12, 'worse'),\n (12, 'woke'),\n (12, 'window'),\n (12, 'urge'),\n (12, 'terrible'),\n (12, 'temperatures'),\n (12, 'taking'),\n (12, 'surrounded'),\n (12, 'surrender'),\n (12, 'surface'),\n (12, 'suddenly'),\n (12, 'struggled'),\n (12, 'start'),\n (12, 'stared'),\n (12, 'spotted'),\n (12, 'space'),\n (12, 'sometimes'),\n (12, 'snapped'),\n (12, 'smile'),\n (12, 'slipped'),\n (12, 'skies'),\n (12, 'single'),\n (12, 'shared'),\n (12, 'send'),\n (12, 'sank'),\n (12, 'rising'),\n (12, 'rested'),\n (12, 'race'),\n (12, 'put'),\n (12, 'pushed'),\n (12, 'pilot'),\n (12, 'peace'),\n (12, 'panic'),\n (12, 'meet'),\n (12, 'less'),\n (12, 'ledge'),\n (12, 'joy'),\n (12, 'injuries'),\n (12, 'hips'),\n (12, 'grown'),\n (12, 'greatest'),\n (12, 'glass'),\n (12, 'gentle'),\n (12, 'follow'),\n (12, 'explained'),\n (12, 'eight'),\n (12, 'dropped'),\n (12, 'driving'),\n (12, 'different'),\n (12, 'cushions'),\n (12, 'cabin'),\n (12, 'broke'),\n (12, 'believed'),\n (12, 'bed'),\n (12, 'battered'),\n (12, 'arm'),\n (12, 'answer'),\n (12, 'Lagurara'),\n (12, 'Finally'),\n (12, 'Even'),\n (12, 'By'),\n (11, 'yourself'),\n (11, 'wreckage'),\n (11, 'won'),\n (11, 'wild'),\n (11, 'waste'),\n (11, 'upon'),\n (11, 'survived'),\n (11, 'state'),\n (11, 'spirit'),\n (11, 'somewhere'),\n (11, 'silent'),\n (11, 'show'),\n (11, 'rear'),\n (11, 'promise'),\n (11, 'progress'),\n (11, 'prepared'),\n (11, 'position'),\n (11, 'plastic'),\n (11, 'person'),\n (11, 'perhaps'),\n (11, 'peasant'),\n (11, 'none'),\n (11, 'narrow'),\n (11, 'medical'),\n (11, 'lose'),\n (11, 'least'),\n (11, 'larger'),\n (11, 'journey'),\n (11, 'job'),\n (11, 'imagined'),\n (11, 'hospital'),\n (11, 'hair'),\n (11, 'form'),\n (11, 'faced'),\n (11, 'dying'),\n (11, 'dug'),\n (11, 'drawn'),\n (11, 'dragged'),\n (11, 'distant'),\n (11, 'dig'),\n (11, 'desperately'),\n (11, 'decision'),\n (11, 'de'),\n (11, 'crust'),\n (11, 'cover'),\n (11, 'cousins'),\n (11, 'copilot'),\n (11, 'certainty'),\n (11, 'captain'),\n (11, 'cannot'),\n (11, 'bring'),\n (11, 'breathe'),\n (11, 'brave'),\n (11, 'blankets'),\n (11, 'ate'),\n (11, 'ask'),\n (11, 'among'),\n (11, 'Their'),\n (11, 'Strauch'),\n (11, 'Stella'),\n (11, 'Perhaps'),\n (11, 'Pedro'),\n (11, 'Paez'),\n (11, 'Nicholich'),\n (11, 'Maris'),\n (11, 'Many'),\n (11, 'Mangino'),\n (11, 'Just'),\n (11, 'Instead'),\n (11, 'Curic'),\n (11, 'Armando'),\n (11, 'Antonio'),\n (10, 'worst'),\n (10, 'wing'),\n (10, 'why'),\n (10, 'watch'),\n (10, 'tomorrow'),\n (10, 'tiny'),\n (10, 'swept'),\n (10, 'strongest'),\n (10, 'stepped'),\n (10, 'sight'),\n (10, 'shout'),\n (10, 'shattered'),\n (10, 'share'),\n (10, 'shallow'),\n (10, 'seven'),\n (10, 'seem'),\n (10, 'seconds'),\n (10, 'safely'),\n (10, 'rocky'),\n (10, 'removed'),\n (10, 'probably'),\n (10, 'played'),\n (10, 'passengers'),\n (10, 'paper'),\n (10, 'natural'),\n (10, 'mouth'),\n (10, 'members'),\n (10, 'may'),\n (10, 'loving'),\n (10, 'loss'),\n ...]"
     },
     "execution_count": 16,
     "metadata": {},
     "output_type": "execute_result"
    }
   ],
   "source": [
    "word_count_map_tuple = [(value, key) for (key, value) in word_count_map.items()]\n",
    "sorted(word_count_map_tuple, reverse=True)"
   ],
   "metadata": {
    "collapsed": false,
    "ExecuteTime": {
     "end_time": "2024-01-02T22:18:46.853359100Z",
     "start_time": "2024-01-02T22:18:46.813053200Z"
    }
   },
   "id": "86b89d34fc8ba4fc",
   "execution_count": 16
  },
  {
   "cell_type": "code",
   "outputs": [],
   "source": [],
   "metadata": {
    "collapsed": false
   },
   "id": "46e6e2be9759e6e1"
  }
 ],
 "metadata": {
  "kernelspec": {
   "display_name": "Python 3",
   "language": "python",
   "name": "python3"
  },
  "language_info": {
   "codemirror_mode": {
    "name": "ipython",
    "version": 2
   },
   "file_extension": ".py",
   "mimetype": "text/x-python",
   "name": "python",
   "nbconvert_exporter": "python",
   "pygments_lexer": "ipython2",
   "version": "2.7.6"
  }
 },
 "nbformat": 4,
 "nbformat_minor": 5
}
